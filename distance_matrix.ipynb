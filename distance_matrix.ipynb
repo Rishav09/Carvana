{
 "cells": [
  {
   "cell_type": "code",
   "execution_count": 1,
   "metadata": {},
   "outputs": [],
   "source": [
    "from geopy.distance import geodesic\n",
    "import pandas as pd\n",
    "import numpy as np"
   ]
  },
  {
   "cell_type": "code",
   "execution_count": 8,
   "metadata": {},
   "outputs": [],
   "source": [
    "# Load the simulated locations\n",
    "locations = pd.read_csv(\"carvana_delivery_locations.csv\")\n",
    "num_locations = len(locations)"
   ]
  },
  {
   "cell_type": "code",
   "execution_count": 9,
   "metadata": {},
   "outputs": [],
   "source": [
    "# Define the number of vehicles in your fleet\n",
    "num_vehicles = 3  # Adjust this number based on your specific scenario\n",
    "\n",
    "# Define the index of the depot\n",
    "depot_index = 0  # Assuming the depot is the first location in your list\n"
   ]
  },
  {
   "cell_type": "code",
   "execution_count": 10,
   "metadata": {},
   "outputs": [],
   "source": [
    "distance_matrix = np.zeros((num_locations, num_locations))\n",
    "\n",
    "for i in range(num_locations):\n",
    "    for j in range(num_locations):\n",
    "        coord1 = (locations.iloc[i]['lat'], locations.iloc[i]['lng'])\n",
    "        coord2 = (locations.iloc[j]['lat'], locations.iloc[j]['lng'])\n",
    "        distance_matrix[i][j] = geodesic(coord1, coord2).km\n",
    "\n",
    "\n",
    "distance_matrix_m = (distance_matrix * 1000).astype(int)"
   ]
  },
  {
   "cell_type": "code",
   "execution_count": 11,
   "metadata": {},
   "outputs": [],
   "source": [
    "def print_solution(manager, routing, solution):\n",
    "    \"\"\"Prints the routes for each vehicle.\"\"\"\n",
    "    total_distance = 0\n",
    "    total_load = 0\n",
    "    for vehicle_id in range(num_vehicles):\n",
    "        index = routing.Start(vehicle_id)\n",
    "        plan_output = f'Route for vehicle {vehicle_id}:\\n'\n",
    "        route_distance = 0\n",
    "        route_load = 0\n",
    "        while not routing.IsEnd(index):\n",
    "            node_index = manager.IndexToNode(index)\n",
    "            route_load += demands[node_index]\n",
    "            plan_output += f' {node_index} Load({route_load}) -> '\n",
    "            previous_index = index\n",
    "            index = solution.Value(routing.NextVar(index))\n",
    "            route_distance += routing.GetArcCostForVehicle(previous_index, index, vehicle_id)\n",
    "        plan_output += f'{manager.IndexToNode(index)} Load({route_load})\\n'\n",
    "        plan_output += f'Distance of the route: {route_distance}m\\n'\n",
    "        plan_output += f'Load of the route: {route_load}\\n'\n",
    "        print(plan_output)\n",
    "        total_distance += route_distance\n",
    "        total_load += route_load\n",
    "    print(f'Total distance of all routes: {total_distance}m')\n",
    "    print(f'Total load of all routes: {total_load}')\n"
   ]
  },
  {
   "cell_type": "code",
   "execution_count": 12,
   "metadata": {},
   "outputs": [
    {
     "name": "stdout",
     "output_type": "stream",
     "text": [
      "Route for vehicle 0:\n",
      " 0 Load(0) -> 0 Load(0)\n",
      "Distance of the route: 0m\n",
      "Load of the route: 0\n",
      "\n",
      "Route for vehicle 1:\n",
      " 0 Load(0) ->  6 Load(1) ->  5 Load(2) ->  4 Load(3) ->  3 Load(4) ->  2 Load(5) ->  1 Load(6) -> 0 Load(6)\n",
      "Distance of the route: 0m\n",
      "Load of the route: 6\n",
      "\n",
      "Route for vehicle 2:\n",
      " 0 Load(0) ->  15 Load(1) ->  14 Load(2) ->  13 Load(3) ->  12 Load(4) ->  11 Load(5) ->  10 Load(6) ->  9 Load(7) ->  8 Load(8) ->  7 Load(9) -> 0 Load(9)\n",
      "Distance of the route: 0m\n",
      "Load of the route: 9\n",
      "\n",
      "Total distance of all routes: 0m\n",
      "Total load of all routes: 15\n"
     ]
    }
   ],
   "source": [
    "from ortools.constraint_solver import pywrapcp, routing_enums_pb2\n",
    "\n",
    "# Create the routing index manager\n",
    "manager = pywrapcp.RoutingIndexManager(len(distance_matrix), num_vehicles, depot_index)\n",
    "\n",
    "# Create the routing model\n",
    "routing = pywrapcp.RoutingModel(manager)\n",
    "\n",
    "# Define the distance callback\n",
    "def distance_callback(from_index, to_index):\n",
    "    \"\"\"Returns the distance between the two nodes.\"\"\"\n",
    "    from_node = manager.IndexToNode(from_index)\n",
    "    to_node = manager.IndexToNode(to_index)\n",
    "    return distance_matrix[from_node][to_node]\n",
    "\n",
    "transit_callback_index = routing.RegisterTransitCallback(distance_callback)\n",
    "\n",
    "# Set the cost of travel for each arc\n",
    "routing.SetArcCostEvaluatorOfAllVehicles(transit_callback_index)\n",
    "\n",
    "# Define vehicle capacities and demands\n",
    "vehicle_capacities = [9] * num_vehicles\n",
    "demands = [0] + [1] * (len(locations) - 1)\n",
    "\n",
    "# Define the demand callback\n",
    "def demand_callback(from_index):\n",
    "    \"\"\"Returns the demand of the node.\"\"\"\n",
    "    from_node = manager.IndexToNode(from_index)\n",
    "    return demands[from_node]\n",
    "\n",
    "demand_callback_index = routing.RegisterUnaryTransitCallback(demand_callback)\n",
    "\n",
    "# Add the capacity dimension\n",
    "routing.AddDimensionWithVehicleCapacity(\n",
    "    demand_callback_index,\n",
    "    0,  # Null capacity slack\n",
    "    vehicle_capacities,  # Vehicle maximum capacities\n",
    "    True,  # Start cumul to zero\n",
    "    'Capacity'\n",
    ")\n",
    "\n",
    "# Define search parameters\n",
    "search_parameters = pywrapcp.DefaultRoutingSearchParameters()\n",
    "search_parameters.first_solution_strategy = (\n",
    "    routing_enums_pb2.FirstSolutionStrategy.PATH_CHEAPEST_ARC)\n",
    "\n",
    "# Solve the problem\n",
    "solution = routing.SolveWithParameters(search_parameters)\n",
    "\n",
    "# Extract and display the solution\n",
    "if solution:\n",
    "    print_solution(manager, routing, solution)\n",
    "else:\n",
    "    print('No solution found!')\n"
   ]
  },
  {
   "cell_type": "code",
   "execution_count": 13,
   "metadata": {},
   "outputs": [
    {
     "name": "stdout",
     "output_type": "stream",
     "text": [
      "Truck 1 route:\n",
      "  -> Depot\n",
      "  -> Depot\n",
      "Truck 2 route:\n",
      "  -> Depot\n",
      "  -> Delivery_6\n",
      "  -> Delivery_5\n",
      "  -> Delivery_4\n",
      "  -> Delivery_3\n",
      "  -> Delivery_2\n",
      "  -> Delivery_1\n",
      "  -> Depot\n",
      "Truck 3 route:\n",
      "  -> Depot\n",
      "  -> Delivery_15\n",
      "  -> Delivery_14\n",
      "  -> Delivery_13\n",
      "  -> Delivery_12\n",
      "  -> Delivery_11\n",
      "  -> Delivery_10\n",
      "  -> Delivery_9\n",
      "  -> Delivery_8\n",
      "  -> Delivery_7\n",
      "  -> Depot\n"
     ]
    }
   ],
   "source": [
    "def get_routes(solution, routing, manager):\n",
    "    routes = []\n",
    "    for vehicle_id in range(num_vehicles):\n",
    "        index = routing.Start(vehicle_id)\n",
    "        route = []\n",
    "        while not routing.IsEnd(index):\n",
    "            node_index = manager.IndexToNode(index)\n",
    "            route.append(node_index)\n",
    "            index = solution.Value(routing.NextVar(index))\n",
    "        route.append(manager.IndexToNode(index))  # end node\n",
    "        routes.append(route)\n",
    "    return routes\n",
    "\n",
    "if solution:\n",
    "    vehicle_routes = get_routes(solution, routing, manager)\n",
    "    for i, route in enumerate(vehicle_routes):\n",
    "        print(f\"Truck {i+1} route:\")\n",
    "        for idx in route:\n",
    "            print(f\"  -> {locations.iloc[idx]['location_id']}\")\n"
   ]
  },
  {
   "cell_type": "code",
   "execution_count": 14,
   "metadata": {},
   "outputs": [],
   "source": [
    "import folium\n",
    "import random\n",
    "\n",
    "# Create a base map centered at the depot\n",
    "depot_lat = locations.iloc[0]['lat']\n",
    "depot_lng = locations.iloc[0]['lng']\n",
    "m = folium.Map(location=[depot_lat, depot_lng], zoom_start=12)\n",
    "\n",
    "# Define colors for routes\n",
    "colors = ['red', 'blue', 'green', 'purple', 'orange', 'darkred']\n",
    "\n",
    "folium.Marker(\n",
    "    location=[depot_lat, depot_lng],\n",
    "    popup='Depot: Carvana HQ',\n",
    "    icon=folium.Icon(color='black', icon='home', prefix='fa')\n",
    ").add_to(m)\n",
    "# Plot routes\n",
    "for i, route in enumerate(vehicle_routes):\n",
    "    color = colors[i % len(colors)]\n",
    "    route_coords = []\n",
    "    \n",
    "    for idx in route:\n",
    "        lat = locations.iloc[idx]['lat']\n",
    "        lng = locations.iloc[idx]['lng']\n",
    "        route_coords.append((lat, lng))\n",
    "\n",
    "        # Add marker for each stop\n",
    "        popup = locations.iloc[idx]['location_id']\n",
    "        folium.CircleMarker(\n",
    "            location=(lat, lng),\n",
    "            radius=6,\n",
    "            color=color,\n",
    "            fill=True,\n",
    "            fill_opacity=0.8,\n",
    "            popup=popup\n",
    "        ).add_to(m)\n",
    "\n",
    "    # Draw lines connecting the route\n",
    "    folium.PolyLine(route_coords, color=color, weight=3, opacity=0.8).add_to(m)\n",
    "\n",
    "# Save the map to an HTML file\n",
    "m.save(\"carvana_routes_map.html\")\n"
   ]
  },
  {
   "cell_type": "code",
   "execution_count": 18,
   "metadata": {},
   "outputs": [
    {
     "name": "stdout",
     "output_type": "stream",
     "text": [
      "Truck 1 route: [0, 0]\n",
      "Truck 2 route: [0, 0]\n",
      "Truck 3 route: [0, 4, 10, 3, 13, 2, 12, 8, 9, 1, 15, 7, 5, 11, 6, 14, 0]\n"
     ]
    }
   ],
   "source": [
    "vehicle_routes = get_routes(solution, routing, manager)\n",
    "for i, route in enumerate(vehicle_routes):\n",
    "    print(f\"Truck {i+1} route: {route}\")\n"
   ]
  },
  {
   "cell_type": "code",
   "execution_count": null,
   "metadata": {},
   "outputs": [],
   "source": []
  }
 ],
 "metadata": {
  "kernelspec": {
   "display_name": "caravana",
   "language": "python",
   "name": "python3"
  },
  "language_info": {
   "codemirror_mode": {
    "name": "ipython",
    "version": 3
   },
   "file_extension": ".py",
   "mimetype": "text/x-python",
   "name": "python",
   "nbconvert_exporter": "python",
   "pygments_lexer": "ipython3",
   "version": "3.12.9"
  }
 },
 "nbformat": 4,
 "nbformat_minor": 2
}
